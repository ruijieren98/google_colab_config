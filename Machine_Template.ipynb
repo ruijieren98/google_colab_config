{
  "nbformat": 4,
  "nbformat_minor": 0,
  "metadata": {
    "accelerator": "GPU",
    "colab": {
      "name": "Machine-Template.ipynb",
      "provenance": [],
      "collapsed_sections": [],
      "machine_shape": "hm"
    },
    "kernelspec": {
      "display_name": "Python 3",
      "name": "python3"
    },
    "language_info": {
      "name": "python"
    }
  },
  "cells": [
    {
      "cell_type": "code",
      "metadata": {
        "colab": {
          "base_uri": "https://localhost:8080/"
        },
        "id": "GRBfmelOb7mZ",
        "outputId": "7744b8bd-3449-4774-a613-f1d172e94cd3"
      },
      "source": [
        "# ================= Step 1: Connect to GPU ================= #\n",
        "!/opt/bin/nvidia-smi"
      ],
      "execution_count": null,
      "outputs": [
        {
          "output_type": "stream",
          "name": "stdout",
          "text": [
            "Mon Nov 22 23:29:26 2021       \n",
            "+-----------------------------------------------------------------------------+\n",
            "| NVIDIA-SMI 460.32.03    Driver Version: 460.32.03    CUDA Version: 11.2     |\n",
            "|-------------------------------+----------------------+----------------------+\n",
            "| GPU  Name        Persistence-M| Bus-Id        Disp.A | Volatile Uncorr. ECC |\n",
            "| Fan  Temp  Perf  Pwr:Usage/Cap|         Memory-Usage | GPU-Util  Compute M. |\n",
            "|                               |                      |               MIG M. |\n",
            "|===============================+======================+======================|\n",
            "|   0  Tesla V100-SXM2...  Off  | 00000000:00:04.0 Off |                    0 |\n",
            "| N/A   35C    P0    25W / 300W |      0MiB / 16160MiB |      0%      Default |\n",
            "|                               |                      |                  N/A |\n",
            "+-------------------------------+----------------------+----------------------+\n",
            "                                                                               \n",
            "+-----------------------------------------------------------------------------+\n",
            "| Processes:                                                                  |\n",
            "|  GPU   GI   CI        PID   Type   Process name                  GPU Memory |\n",
            "|        ID   ID                                                   Usage      |\n",
            "|=============================================================================|\n",
            "|  No running processes found                                                 |\n",
            "+-----------------------------------------------------------------------------+\n"
          ]
        }
      ]
    },
    {
      "cell_type": "code",
      "metadata": {
        "colab": {
          "base_uri": "https://localhost:8080/"
        },
        "id": "_zACbd9Md4sH",
        "outputId": "d5067c61-7c02-469a-bcfe-2a09da6930ac"
      },
      "source": [
        "# ================= Step 2.1: Connect to Google Drive ================= #\n",
        "!apt-get install -y -qq software-properties-common python-software-properties module-init-tools\n",
        "!add-apt-repository -y ppa:alessandro-strada/ppa 2>&1 > /dev/null\n",
        "!apt-get update -qq 2>&1 > /dev/null\n",
        "!apt-get -y install -qq google-drive-ocamlfuse fuse\n",
        "from google.colab import auth\n",
        "auth.authenticate_user()\n",
        "from oauth2client.client import GoogleCredentials\n",
        "creds = GoogleCredentials.get_application_default()\n",
        "import getpass\n",
        "!google-drive-ocamlfuse -headless -id={creds.client_id} -secret={creds.client_secret} < /dev/null 2>&1 | grep URL\n",
        "vcode = getpass.getpass()\n",
        "!echo {vcode} | google-drive-ocamlfuse -headless -id={creds.client_id} -secret={creds.client_secret}"
      ],
      "execution_count": null,
      "outputs": [
        {
          "output_type": "stream",
          "name": "stdout",
          "text": [
            "E: Package 'python-software-properties' has no installation candidate\n",
            "Selecting previously unselected package google-drive-ocamlfuse.\n",
            "(Reading database ... 155222 files and directories currently installed.)\n",
            "Preparing to unpack .../google-drive-ocamlfuse_0.7.27-0ubuntu1~ubuntu18.04.1_amd64.deb ...\n",
            "Unpacking google-drive-ocamlfuse (0.7.27-0ubuntu1~ubuntu18.04.1) ...\n",
            "Setting up google-drive-ocamlfuse (0.7.27-0ubuntu1~ubuntu18.04.1) ...\n",
            "Processing triggers for man-db (2.8.3-2ubuntu0.1) ...\n",
            "Please, open the following URL in a web browser: https://accounts.google.com/o/oauth2/auth?client_id=32555940559.apps.googleusercontent.com&redirect_uri=urn%3Aietf%3Awg%3Aoauth%3A2.0%3Aoob&scope=https%3A%2F%2Fwww.googleapis.com%2Fauth%2Fdrive&response_type=code&access_type=offline&approval_prompt=force\n",
            "··········\n",
            "Please, open the following URL in a web browser: https://accounts.google.com/o/oauth2/auth?client_id=32555940559.apps.googleusercontent.com&redirect_uri=urn%3Aietf%3Awg%3Aoauth%3A2.0%3Aoob&scope=https%3A%2F%2Fwww.googleapis.com%2Fauth%2Fdrive&response_type=code&access_type=offline&approval_prompt=force\n",
            "Please enter the verification code: Access token retrieved correctly.\n"
          ]
        }
      ]
    },
    {
      "cell_type": "code",
      "metadata": {
        "id": "iyvpl3QVeYIV"
      },
      "source": [
        "# ================= Step 2.2: Connect to Google Drive ================= #\n",
        "!mkdir -p drive\n",
        "!google-drive-ocamlfuse drive"
      ],
      "execution_count": null,
      "outputs": []
    },
    {
      "cell_type": "code",
      "metadata": {
        "colab": {
          "base_uri": "https://localhost:8080/"
        },
        "id": "_De6pyDveZTf",
        "outputId": "b15d295d-06dc-45f3-e045-bd2e50f34624"
      },
      "source": [
        "# ================= Step 3.1: Transform data to colab ================= #\n",
        "%mkdir /content/datasets/\n",
        "\n",
        "%cp -r -vv /content/drive/datasets/ipalm/formed_data/depth2final_synth.zip /content/datasets/\n",
        "%cp -r -vv /content/drive/datasets/ipalm/formed_data/depth2final_real.zip /content/datasets/\n",
        "%cp -r -vv /content/drive/datasets/ipalm/formed_data/depth2final_real_all_depth.zip /content/datasets/\n"
      ],
      "execution_count": null,
      "outputs": [
        {
          "output_type": "stream",
          "name": "stdout",
          "text": [
            "'/content/drive/datasets/ipalm/formed_data/depth2final_synth.zip' -> '/content/datasets/depth2final_synth.zip'\n",
            "'/content/drive/datasets/ipalm/formed_data/depth2final_real.zip' -> '/content/datasets/depth2final_real.zip'\n",
            "'/content/drive/datasets/ipalm/formed_data/depth2final_real_all_depth.zip' -> '/content/datasets/depth2final_real_all_depth.zip'\n"
          ]
        }
      ]
    },
    {
      "cell_type": "code",
      "metadata": {
        "colab": {
          "base_uri": "https://localhost:8080/"
        },
        "id": "ogGAljNMeemv",
        "outputId": "f248403b-022f-4ed6-faba-7ae15325f017"
      },
      "source": [
        "# ================= Step 3.2: Unzip Data ================= #\n",
        "%cd /content/datasets/\n",
        "%ls\n",
        "\n",
        "!unzip depth2final_synth\n",
        "!unzip depth2final_real\n",
        "!unzip depth2final_real_all_depth\n"
      ],
      "execution_count": null,
      "outputs": [
        {
          "output_type": "stream",
          "name": "stdout",
          "text": [
            "\u001b[1;30;43mStreaming output truncated to the last 5000 lines.\u001b[0m\n",
            "  inflating: depth2final_synth/train/599.npy  \n",
            "  inflating: depth2final_synth/train/3218.npy  \n",
            "  inflating: depth2final_synth/train/1606.npy  \n",
            "  inflating: depth2final_synth/train/2889.npy  \n",
            "  inflating: depth2final_synth/train/2387.npy  \n",
          ]
        }
      ]
    },
    {
      "cell_type": "code",
      "metadata": {
        "colab": {
          "base_uri": "https://localhost:8080/"
        },
        "id": "qugogseSekia",
        "outputId": "a6d6005e-b5ab-488f-bd30-20b4ed0b540f"
      },
      "source": [
        "# ================= Step 4: Configuration ================= #\n",
        "%cd /content/drive/GraspDA-6class-Release/Line1/synth_data/\n",
        "!pip install -r requirements.txt"
      ],
      "execution_count": null,
      "outputs": [
        {
          "output_type": "stream",
          "name": "stdout",
          "text": [
            "/content/drive/GraspDA-6class-Release/Line1/synth_data\n",
            "Requirement already satisfied: torch>=1.4.0 in /usr/local/lib/python3.7/dist-packages (from -r requirements.txt (line 1)) (1.10.0+cu111)\n",
            "Requirement already satisfied: torchvision>=0.5.0 in /usr/local/lib/python3.7/dist-packages (from -r requirements.txt (line 2)) (0.11.1+cu111)\n",
            "Collecting dominate>=2.4.0\n",
            "  Downloading dominate-2.6.0-py2.py3-none-any.whl (29 kB)\n",
            "Collecting visdom>=0.1.8.8\n",
            "  Downloading visdom-0.1.8.9.tar.gz (676 kB)\n",
            "\u001b[K     |████████████████████████████████| 676 kB 17.6 MB/s \n",
            "\u001b[?25hRequirement already satisfied: typing-extensions in /usr/local/lib/python3.7/dist-packages (from torch>=1.4.0->-r requirements.txt (line 1)) (3.10.0.2)\n",
            "Requirement already satisfied: pillow!=8.3.0,>=5.3.0 in /usr/local/lib/python3.7/dist-packages (from torchvision>=0.5.0->-r requirements.txt (line 2)) (7.1.2)\n",
            "Requirement already satisfied: numpy in /usr/local/lib/python3.7/dist-packages (from torchvision>=0.5.0->-r requirements.txt (line 2)) (1.19.5)\n",
            "Requirement already satisfied: scipy in /usr/local/lib/python3.7/dist-packages (from visdom>=0.1.8.8->-r requirements.txt (line 4)) (1.4.1)\n",
            "Requirement already satisfied: requests in /usr/local/lib/python3.7/dist-packages (from visdom>=0.1.8.8->-r requirements.txt (line 4)) (2.23.0)\n",
            "Requirement already satisfied: tornado in /usr/local/lib/python3.7/dist-packages (from visdom>=0.1.8.8->-r requirements.txt (line 4)) (5.1.1)\n",
            "Requirement already satisfied: pyzmq in /usr/local/lib/python3.7/dist-packages (from visdom>=0.1.8.8->-r requirements.txt (line 4)) (22.3.0)\n",
            "Requirement already satisfied: six in /usr/local/lib/python3.7/dist-packages (from visdom>=0.1.8.8->-r requirements.txt (line 4)) (1.15.0)\n",
            "Collecting jsonpatch\n",
            "  Downloading jsonpatch-1.32-py2.py3-none-any.whl (12 kB)\n",
            "Collecting torchfile\n",
            "  Downloading torchfile-0.1.0.tar.gz (5.2 kB)\n",
            "Collecting websocket-client\n",
            "  Downloading websocket_client-1.2.1-py2.py3-none-any.whl (52 kB)\n",
            "\u001b[K     |████████████████████████████████| 52 kB 1.6 MB/s \n",
            "\u001b[?25hCollecting jsonpointer>=1.9\n",
            "  Downloading jsonpointer-2.2-py2.py3-none-any.whl (7.5 kB)\n",
            "Requirement already satisfied: certifi>=2017.4.17 in /usr/local/lib/python3.7/dist-packages (from requests->visdom>=0.1.8.8->-r requirements.txt (line 4)) (2021.10.8)\n",
            "Requirement already satisfied: chardet<4,>=3.0.2 in /usr/local/lib/python3.7/dist-packages (from requests->visdom>=0.1.8.8->-r requirements.txt (line 4)) (3.0.4)\n",
            "Requirement already satisfied: urllib3!=1.25.0,!=1.25.1,<1.26,>=1.21.1 in /usr/local/lib/python3.7/dist-packages (from requests->visdom>=0.1.8.8->-r requirements.txt (line 4)) (1.24.3)\n",
            "Requirement already satisfied: idna<3,>=2.5 in /usr/local/lib/python3.7/dist-packages (from requests->visdom>=0.1.8.8->-r requirements.txt (line 4)) (2.10)\n",
            "Building wheels for collected packages: visdom, torchfile\n",
            "  Building wheel for visdom (setup.py) ... \u001b[?25l\u001b[?25hdone\n",
            "  Created wheel for visdom: filename=visdom-0.1.8.9-py3-none-any.whl size=655250 sha256=fd17feb46d4bc7568889047348dd2d1bd1c78c9a8f30bd16b6e37c8a88e5731a\n",
            "  Stored in directory: /root/.cache/pip/wheels/2d/d1/9b/cde923274eac9cbb6ff0d8c7c72fe30a3da9095a38fd50bbf1\n",
            "  Building wheel for torchfile (setup.py) ... \u001b[?25l\u001b[?25hdone\n",
            "  Created wheel for torchfile: filename=torchfile-0.1.0-py3-none-any.whl size=5710 sha256=f9927d7ed1879bbed3303d164fb850b6bf4a5f2b5ce7092ea8f147b758625fc8\n",
            "  Stored in directory: /root/.cache/pip/wheels/ac/5c/3a/a80e1c65880945c71fd833408cd1e9a8cb7e2f8f37620bb75b\n",
            "Successfully built visdom torchfile\n",
            "Installing collected packages: jsonpointer, websocket-client, torchfile, jsonpatch, visdom, dominate\n",
            "Successfully installed dominate-2.6.0 jsonpatch-1.32 jsonpointer-2.2 torchfile-0.1.0 visdom-0.1.8.9 websocket-client-1.2.1\n"
          ]
        }
      ]
    },
    {
      "cell_type": "code",
      "metadata": {
        "colab": {
          "base_uri": "https://localhost:8080/"
        },
        "id": "NToyQY4qeoEC",
        "outputId": "cd7386c3-d83a-4194-a261-a3aa940aa2b2"
      },
      "source": [
        "# ================= Step 5.1: Start Train ================= #\n",
        "%cd /content/drive/GraspDA-6class-Release/Line1/synth_data/\n",
        "!bash ./scripts/train_pix2pix.sh"
      ],
      "execution_count": null,
      "outputs": [
        {
          "output_type": "stream",
          "name": "stdout",
          "text": [
            "/content/drive/IPALM-code-ICRA/Line1/synth_data\n",
            "+ python train.py --dataroot /content/datasets/depth2final_synth/ --dataroot_target /content/datasets/depth2final_synth/ --name depth2final_synth --model our --netG unet_256 --netD LeNet --direction AtoB --lambda_entropy 1 --dataset_mode onehotAligned --norm batch --pool_size 0 --input_nc 1 --output_nc 6 --batch_size 8 --checkpoints_dir /content/ --save_epoch_freq 1 --gpu_ids 0 --n_epochs 30 --n_epochs_decay 30\n",
            "----------------- Options ---------------\n",
            "               batch_size: 8                             \t[default: 1]\n",
            "                    beta1: 0.5                           \n",
            "          checkpoints_dir: /content/                     \t[default: ./checkpoints]\n",
            "           continue_train: False                         \n",
            "                crop_size: 256                           \n",
            "                 dataroot: /content/datasets/depth2final_synth/\t[default: None]\n",
            "          dataroot_target: /content/datasets/depth2final_synth/\t[default: None]\n",
            "             dataset_mode: onehotAligned                 \t[default: aligned]\n",
            "                direction: AtoB                          \n",
            "              display_env: main                          \n",
            "             display_freq: 400                           \n",
            "               display_id: 1                             \n",
            "            display_ncols: 4                             \n",
            "             display_port: 8097                          \n",
            "           display_server: http://localhost              \n",
            "          display_winsize: 256                           \n",
            "                    epoch: latest                        \n",
            "              epoch_count: 1                             \n",
            "                 gan_mode: vanilla                       \n",
            "                  gpu_ids: 0                             \t[default: -1]\n",
            "                init_gain: 0.02                          \n",
            "                init_type: normal                        \n",
            "                 input_nc: 1                             \t[default: 3]\n",
            "                  isTrain: True                          \t[default: None]\n",
            "           lambda_entropy: 1.0                           \t[default: 100.0]\n",
            "                load_iter: 0                             \t[default: 0]\n",
            "                load_size: 286                           \n",
            "                       lr: 0.0002                        \n",
            "           lr_decay_iters: 50                            \n",
            "                lr_policy: linear                        \n",
            "         max_dataset_size: inf                           \n",
            "                    model: our                           \t[default: cycle_gan]\n",
            "                 n_epochs: 30                            \t[default: 100]\n",
            "           n_epochs_decay: 30                            \t[default: 100]\n",
            "               n_layers_D: 3                             \n",
            "                     name: depth2final_synth             \t[default: experiment_name]\n",
            "                      ndf: 64                            \n",
            "                     netD: LeNet                         \t[default: basic]\n",
            "                     netG: unet_256                      \n",
            "                      ngf: 64                            \n",
            "               no_dropout: False                         \n",
            "                  no_flip: False                         \n",
            "                  no_html: False                         \n",
            "              no_rotation: False                         \n",
            "                     norm: batch                         \n",
            "              num_threads: 4                             \n",
            "                output_nc: 6                             \t[default: 3]\n",
            "                    phase: train                         \n",
            "                pool_size: 0                             \n",
            "               preprocess: resize_and_crop               \n",
            "               print_freq: 100                           \n",
            "             save_by_iter: False                         \n",
            "          save_epoch_freq: 1                             \t[default: 5]\n",
            "         save_latest_freq: 5000                          \n",
            "           serial_batches: False                         \n",
            "                   suffix:                               \n",
            "         update_html_freq: 1000                          \n",
            "                  verbose: False                         \n",
            "----------------- End -------------------\n",
            "dataset [onehotAlignedDataset] was created\n",
            "The number of training images = 5600\n",
            "dataset [onehotAlignedDataset] was created\n",
            "The number of style training images = 5600\n",
            "initialize network with normal\n",
            "initialize network with normal\n",
            "model [ourmodel] was created\n",
            "---------- Networks initialized -------------\n",
            "[Network G] Total number of parameters : 7.219 M\n",
            "-----------------------------------------------\n",
            "Setting up a new session...\n",
            "create web directory /content/depth2final_synth/web...\n",
            "----------------- Options ---------------\n",
            "               batch_size: 8                             \t[default: 1]\n",
            "                    beta1: 0.5                           \n",
            "          checkpoints_dir: /content/                     \t[default: ./checkpoints]\n",
            "           continue_train: False                         \n",
            "                crop_size: 256                           \n",
            "                 dataroot: /content/datasets/depth2final_synth/\t[default: None]\n",
            "          dataroot_target: /content/datasets/depth2final_synth/\t[default: None]\n",
            "             dataset_mode: onehotAligned                 \t[default: aligned]\n",
            "                direction: AtoB                          \n",
            "              display_env: main                          \n",
            "             display_freq: 400                           \n",
            "               display_id: 1                             \n",
            "            display_ncols: 4                             \n",
            "             display_port: 8097                          \n",
            "           display_server: http://localhost              \n",
            "          display_winsize: 256                           \n",
            "                    epoch: latest                        \n",
            "              epoch_count: 1                             \n",
            "                 gan_mode: vanilla                       \n",
            "                  gpu_ids: 0                             \t[default: -1]\n",
            "                init_gain: 0.02                          \n",
            "                init_type: normal                        \n",
            "                 input_nc: 1                             \t[default: 3]\n",
            "                  isTrain: True                          \t[default: None]\n",
            "           lambda_entropy: 1.0                           \t[default: 100.0]\n",
            "                load_iter: 0                             \t[default: 0]\n",
            "                load_size: 286                           \n",
            "                       lr: 0.0002                        \n",
            "           lr_decay_iters: 50                            \n",
            "                lr_policy: linear                        \n",
            "         max_dataset_size: inf                           \n",
            "                    model: our                           \t[default: cycle_gan]\n",
            "                 n_epochs: 30                            \t[default: 100]\n",
            "           n_epochs_decay: 30                            \t[default: 100]\n",
            "               n_layers_D: 3                             \n",
            "                     name: depth2final_synth             \t[default: experiment_name]\n",
            "                      ndf: 64                            \n",
            "                     netD: LeNet                         \t[default: basic]\n",
            "                     netG: unet_256                      \n",
            "                      ngf: 64                            \n",
            "               no_dropout: False                         \n",
            "                  no_flip: False                         \n",
            "                  no_html: False                         \n",
            "              no_rotation: False                         \n",
            "                     norm: batch                         \n",
            "              num_threads: 4                             \n",
            "                output_nc: 6                             \t[default: 3]\n",
            "                    phase: train                         \n",
            "                pool_size: 0                             \n",
            "               preprocess: resize_and_crop               \n",
            "               print_freq: 100                           \n",
            "             save_by_iter: False                         \n",
            "          save_epoch_freq: 1                             \t[default: 5]\n",
            "         save_latest_freq: 5000                          \n",
            "           serial_batches: False                         \n",
            "                   suffix:                               \n",
            "         update_html_freq: 1000                          \n",
            "                  verbose: False                         \n",
            "----------------- End -------------------\n",
            "dataset [onehotAlignedDataset] was created\n",
            "The number of validation images = 702\n",
            "learning rate 0.0002000 -> 0.0002000\n",
            "(epoch: 1, iters: 200, time: 0.008, data: 0.913) G_GAN: 0.000 G_Entropy: -0.134 D: 0.000 \n",
            "(epoch: 1, iters: 400, time: 0.023, data: 0.052) G_GAN: 0.000 G_Entropy: -0.200 D: 0.000 \n",
            "(epoch: 1, iters: 600, time: 0.008, data: 0.029) G_GAN: 0.000 G_Entropy: -0.247 D: 0.000 \n",
            "(epoch: 1, iters: 800, time: 0.016, data: 0.012) G_GAN: 0.000 G_Entropy: -0.264 D: 0.000 \n",
            "(epoch: 1, iters: 1000, time: 0.008, data: 0.012) G_GAN: 0.000 G_Entropy: -0.286 D: 0.000 \n",
            "(epoch: 1, iters: 1200, time: 0.014, data: 0.014) G_GAN: 0.000 G_Entropy: -0.294 D: 0.000 \n",
            "(epoch: 1, iters: 1400, time: 0.008, data: 0.014) G_GAN: 0.000 G_Entropy: -0.308 D: 0.000 \n",
            "(epoch: 1, iters: 1600, time: 0.014, data: 0.073) G_GAN: 0.000 G_Entropy: -0.315 D: 0.000 \n",
            "(epoch: 1, iters: 1800, time: 0.007, data: 0.010) G_GAN: 0.000 G_Entropy: -0.313 D: 0.000 \n",
            "(epoch: 1, iters: 2000, time: 0.016, data: 0.009) G_GAN: 0.000 G_Entropy: -0.332 D: 0.000 \n",
            "(epoch: 1, iters: 2200, time: 0.008, data: 0.037) G_GAN: 0.000 G_Entropy: -0.329 D: 0.000 \n",
            "(epoch: 1, iters: 2400, time: 0.015, data: 0.019) G_GAN: 0.000 G_Entropy: -0.330 D: 0.000 \n",
            "(epoch: 1, iters: 2600, time: 0.009, data: 0.014) G_GAN: 0.000 G_Entropy: -0.317 D: 0.000 \n",
            "(epoch: 1, iters: 2800, time: 0.014, data: 0.008) G_GAN: 0.000 G_Entropy: -0.333 D: 0.000 \n",
            "(epoch: 1, iters: 3000, time: 0.008, data: 0.027) G_GAN: 0.000 G_Entropy: -0.341 D: 0.000 \n",
            "(epoch: 1, iters: 3200, time: 0.014, data: 0.020) G_GAN: 0.000 G_Entropy: -0.337 D: 0.000 \n",
            "(epoch: 1, iters: 3400, time: 0.008, data: 0.012) G_GAN: 0.000 G_Entropy: -0.331 D: 0.000 \n",
            "(epoch: 1, iters: 3600, time: 0.014, data: 0.008) G_GAN: 0.000 G_Entropy: -0.329 D: 0.000 \n",
            "(epoch: 1, iters: 3800, time: 0.008, data: 0.021) G_GAN: 0.000 G_Entropy: -0.348 D: 0.000 \n",
            "(epoch: 1, iters: 4000, time: 0.017, data: 0.122) G_GAN: 0.000 G_Entropy: -0.333 D: 0.000 \n",
            "(epoch: 1, iters: 4200, time: 0.008, data: 0.009) G_GAN: 0.000 G_Entropy: -0.347 D: 0.000 \n",
            "(epoch: 1, iters: 4400, time: 0.013, data: 0.045) G_GAN: 0.000 G_Entropy: -0.341 D: 0.000 \n",
            "(epoch: 1, iters: 4600, time: 0.009, data: 0.011) G_GAN: 0.000 G_Entropy: -0.345 D: 0.000 \n",
            "(epoch: 1, iters: 4800, time: 0.013, data: 0.015) G_GAN: 0.000 G_Entropy: -0.335 D: 0.000 \n",
            "(epoch: 1, iters: 5000, time: 0.008, data: 0.011) G_GAN: 0.000 G_Entropy: -0.345 D: 0.000 \n",
            "saving the latest model (epoch 1, total_iters 5000)\n",
            "(epoch: 1, iters: 5200, time: 0.014, data: 0.015) G_GAN: 0.000 G_Entropy: -0.340 D: 0.000 \n",
            "(epoch: 1, iters: 5400, time: 0.007, data: 0.009) G_GAN: 0.000 G_Entropy: -0.348 D: 0.000 \n",
            "(epoch: 1, iters: 5600, time: 0.011, data: 0.010) G_GAN: 0.000 G_Entropy: -0.340 D: 0.000 \n",
            "saving the model at the end of epoch 1, iters 5600\n",
            "End of epoch 1 / 60 \t Time Taken: 74 sec\n",
            "depth style accuracy:  0.0\n",
            


          ]
        }
      ]
    }
  ]
}
